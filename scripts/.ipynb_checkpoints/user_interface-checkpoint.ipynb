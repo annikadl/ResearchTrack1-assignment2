{
 "cells": [
  {
   "cell_type": "code",
   "execution_count": 1,
   "metadata": {},
   "outputs": [],
   "source": [
    "import rospy\n",
    "import actionlib\n",
    "import actionlib.msg\n",
    "import assignment_2_2023.msg\n",
    "from std_srvs.srv import *\n",
    "import sys\n",
    "import select\n",
    "from nav_msgs.msg import Odometry\n",
    "from geometry_msgs.msg import Point, Pose, Twist\n",
    "from assignment_2_2023.msg import Vel\n",
    "from assignment_2_2023.msg import PlanningAction, PlanningGoal, PlanningResult, PlanningActionResult\n",
    "from actionlib_msgs.msg import GoalStatus\n",
    "from sensor_msgs.msg import LaserScan\n",
    "import math\n",
    "import ipywidgets as widgets\n",
    "from IPython.display import display \n",
    "from ipywidgets import Layout, HBox\n",
    "import matplotlib.pyplot as plt\n",
    "from matplotlib.animation import FuncAnimation\n",
    "from ipywidgets import interactive, fixed\n",
    "import tf\n",
    "from nav_msgs.msg import Odometry\n",
    "from tf.transformations import quaternion_matrix\n",
    "import numpy as np"
   ]
  },
  {
   "cell_type": "code",
   "execution_count": 39,
   "metadata": {},
   "outputs": [
    {
     "name": "stderr",
     "output_type": "stream",
     "text": [
      "ERROR:tornado.application:Exception in callback <bound method TimerBase._on_timer of <matplotlib.backends.backend_webagg_core.TimerTornado object at 0x7f8daa36e700>>\n",
      "Traceback (most recent call last):\n",
      "  File \"/usr/local/lib/python3.8/dist-packages/tornado/ioloop.py\", line 905, in _run\n",
      "    return self.callback()\n",
      "  File \"/usr/lib/python3/dist-packages/matplotlib/backend_bases.py\", line 1194, in _on_timer\n",
      "    ret = func(*args, **kwargs)\n",
      "  File \"/usr/lib/python3/dist-packages/matplotlib/animation.py\", line 1447, in _step\n",
      "    still_going = Animation._step(self, *args)\n",
      "  File \"/usr/lib/python3/dist-packages/matplotlib/animation.py\", line 1173, in _step\n",
      "    self._draw_next_frame(framedata, self._blit)\n",
      "  File \"/usr/lib/python3/dist-packages/matplotlib/animation.py\", line 1192, in _draw_next_frame\n",
      "    self._draw_frame(framedata)\n",
      "  File \"/usr/lib/python3/dist-packages/matplotlib/animation.py\", line 1755, in _draw_frame\n",
      "    self._drawn_artists = self._func(framedata, *self._args)\n",
      "  File \"/tmp/ipykernel_8130/1341705805.py\", line 100, in update\n",
      "    unreached_goals += 1\n",
      "UnboundLocalError: local variable 'unreached_goals' referenced before assignment\n"
     ]
    }
   ],
   "source": [
    "# Initialize global variables\n",
    "past_goals = []\n",
    "last_goal = None  # Keep track of the last goal\n",
    "\n",
    "# keep track of reached/unreached goals\n",
    "reached_goals = 0\n",
    "unreached_goals = 0\n",
    "\n",
    "\n",
    "# Define state descriptions\n",
    "state_desc_ = {\n",
    "    0: 'Go to point',\n",
    "    1: 'Wall following',\n",
    "    2: 'Done',\n",
    "    6: 'Goal cancelled'\n",
    "}\n",
    "\n",
    "\n",
    "font_family = {'family': 'arial', 'color':  'navy', 'weight': 'bold', 'size': 20}\n",
    "font_family_smaller = {'family': 'arial', 'color':  'navy', 'weight': 'bold', 'size': 15}\n",
    "\n"
   ]
  },
  {
   "cell_type": "code",
   "execution_count": 3,
   "metadata": {},
   "outputs": [],
   "source": [
    "# Check if ROS node has already been initialized\n",
    "if not rospy.core.is_initialized():\n",
    "    rospy.init_node('set_target_client')"
   ]
  },
  {
   "cell_type": "code",
   "execution_count": 4,
   "metadata": {},
   "outputs": [],
   "source": [
    "# Declare position_display in the global scope\n",
    "position_display = widgets.HTML(value=\"<b>POSITION</b>: <b>x</b>: 0, <b>y</b>: 0<br><b>VELOCITY</b>: <b>linear</b>: 0, <b>angular</b>: 0}\", layout=widgets.Layout(style=font_family_smaller))\n",
    "\n",
    "status_text = widgets.Label(value=\"Current Status: Unknown\")\n",
    "\n",
    "past_goals_label = widgets.HTML(value=\"<b>Past Goals:</b>\")\n",
    "past_goals_display = widgets.HTML()\n",
    "\n",
    "reached_label = widgets.Label(value=\"Reached Goals: 0\")\n",
    "unreached_label = widgets.Label(value=\"Unreached Goals: 100\")"
   ]
  },
  {
   "cell_type": "code",
   "execution_count": 5,
   "metadata": {},
   "outputs": [],
   "source": [
    "# Publisher node function to handle position values and publish them\n",
    "def publisher_node(msg):\n",
    "    global pub, old_my_pos_and_vel\n",
    "    \n",
    "    # Get the actual position and velocity\n",
    "    actual_pos = msg.pose.pose.position\n",
    "    actual_vel_linear = msg.twist.twist.linear\n",
    "    actual_vel_angular = msg.twist.twist.angular\n",
    "    \n",
    "    # Create a Vel message\n",
    "    my_pos_and_vel = Vel()\n",
    "    my_pos_and_vel.pos_x = actual_pos.x\n",
    "    my_pos_and_vel.pos_y = actual_pos.y\n",
    "    my_pos_and_vel.vel_x = actual_vel_linear.x\n",
    "    my_pos_and_vel.vel_z = actual_vel_angular.z\n",
    "\n",
    "\n",
    "    if (abs(my_pos_and_vel.pos_x - old_my_pos_and_vel.pos_x) > 0.05):\n",
    "        old_my_pos_and_vel.pos_x = my_pos_and_vel.pos_x\n",
    "    \n",
    "    \n",
    "    if (abs(my_pos_and_vel.pos_y -  old_my_pos_and_vel.pos_y) > 0.05):\n",
    "        old_my_pos_and_vel.pos_y = my_pos_and_vel.pos_y\n",
    "\n",
    "    if (abs(my_pos_and_vel.vel_x - old_my_pos_and_vel.vel_x) > 0.05):\n",
    "        old_my_pos_and_vel.vel_x = my_pos_and_vel.vel_x\n",
    "\n",
    "    if (abs(my_pos_and_vel.vel_z - old_my_pos_and_vel.vel_z) > 0.05):\n",
    "        old_my_pos_and_vel.vel_z = my_pos_and_vel.vel_z\n",
    "    \n",
    "    # Publish the position and velocity\n",
    "    pub.publish(my_pos_and_vel)\n",
    "\n",
    "    new_pos_x = \"{:.3f}\".format(old_my_pos_and_vel.pos_x)\n",
    "    new_pos_y = \"{:.3f}\".format(old_my_pos_and_vel.pos_y)\n",
    "    new_vel_x = \"{:.3f}\".format(old_my_pos_and_vel.vel_x)\n",
    "    new_vel_z = \"{:.3f}\".format(old_my_pos_and_vel.vel_z)    \n",
    "\n",
    "    \n",
    "    # Update position and velocity display\n",
    "    position_display.value = f\"<b>POSITION</b>: <b>x</b>: {new_pos_x}, <b>y</b>: {new_pos_y}<br><b>VELOCITY</b>: <b>linear</b>: {new_vel_x}, <b>angular</b>: {new_vel_z}\"\n",
    "    "
   ]
  },
  {
   "cell_type": "code",
   "execution_count": 6,
   "metadata": {},
   "outputs": [],
   "source": [
    "global old_my_pos_and_vel\n",
    "old_my_pos_and_vel = Vel()\n",
    "\n",
    "old_my_pos_and_vel.pos_x = 0.0\n",
    "old_my_pos_and_vel.pos_y = 0.0\n",
    "old_my_pos_and_vel.vel_x = 0.0\n",
    "old_my_pos_and_vel.vel_z = 0.0\n",
    "\n",
    "# Initialize publisher\n",
    "pub = rospy.Publisher('/pos_vel', Vel, queue_size=10)\n",
    "\n",
    "# Initialize subscriber\n",
    "sub_from_Odom = rospy.Subscriber(\"/odom\", Odometry, publisher_node)"
   ]
  },
  {
   "cell_type": "code",
   "execution_count": 7,
   "metadata": {},
   "outputs": [],
   "source": [
    "# Function to set goal\n",
    "def set_goal(input_x, input_y):\n",
    "    global past_goals, last_goal\n",
    "    goal = PlanningGoal()\n",
    "    rospy.set_param('/des_pos_x', input_x)\n",
    "    rospy.set_param('/des_pos_y', input_y)\n",
    "    goal.target_pose.pose.position.x = input_x\n",
    "    goal.target_pose.pose.position.y = input_y\n",
    "    \n",
    "    # Check if the new goal is different from the last goal\n",
    "    if last_goal is None or (input_x, input_y) != last_goal:\n",
    "        past_goals.append((input_x, input_y))\n",
    "        last_goal = (input_x, input_y)\n",
    "        client.send_goal(goal)\n",
    "        rospy.loginfo(\"Inserted goal: des_x = %f, des_y = %f\", input_x, input_y)\n",
    "        update_past_goals_display()  # Update past goals display after setting a new goal\n",
    "    else:\n",
    "        rospy.loginfo(\"New goal is the same as the previous one. Not setting it.\")\n"
   ]
  },
  {
   "cell_type": "code",
   "execution_count": 8,
   "metadata": {},
   "outputs": [],
   "source": [
    "def cancel_goal():\n",
    "    if client.get_state() == actionlib.GoalStatus.ACTIVE:\n",
    "        client.cancel_goal()\n",
    "        rospy.loginfo(\"Goal cancelled\")\n",
    "    else:\n",
    "        rospy.loginfo(\"No active goal to cancel\")"
   ]
  },
  {
   "cell_type": "code",
   "execution_count": 9,
   "metadata": {},
   "outputs": [],
   "source": [
    "# Update status_update function\n",
    "def status_update(msg):\n",
    "    global current_status, reached_goals, unreached_goals\n",
    "    if msg.status_list:\n",
    "        current_status = msg.status_list[0].status\n",
    "        # print(\"Received current status:\", current_status)\n",
    "        if current_status in state_desc_:\n",
    "            status_text.value = f\"Current Status: {state_desc_[current_status]} ({current_status})\"\n",
    "\n",
    "        else:\n",
    "            status_text.value = f\"Current Status: Unknown ({current_status})\"\n",
    "\n",
    "        \n",
    "        if current_status == GoalStatus.SUCCEEDED:\n",
    "            reached_goals += 1\n",
    "            \n",
    "\n",
    "        elif current_status == GoalStatus.ABORTED or current_status == GoalStatus.REJECTED:\n",
    "            unreached_goals += 1  \n",
    "            \n",
    "    else:\n",
    "        status_text.value = \"Current Status: Unknown\""
   ]
  },
  {
   "cell_type": "code",
   "execution_count": 10,
   "metadata": {},
   "outputs": [
    {
     "data": {
      "text/plain": [
       "True"
      ]
     },
     "execution_count": 10,
     "metadata": {},
     "output_type": "execute_result"
    }
   ],
   "source": [
    "client = actionlib.SimpleActionClient('/reaching_goal', PlanningAction)\n",
    "client.wait_for_server()"
   ]
  },
  {
   "cell_type": "code",
   "execution_count": 11,
   "metadata": {},
   "outputs": [],
   "source": [
    "# Create widgets for setting goal\n",
    "goal_x = widgets.FloatSlider(min=-15.0, max=15.0, step=0.1, description='desired x:')\n",
    "goal_y = widgets.FloatSlider(min=-15.0, max=15.0, step=0.1, description='desired y:')\n",
    "set_goal_button = widgets.Button(description=\"Set Goal\")\n",
    "cancel_goal_button = widgets.Button(description=\"Cancel Goal\")"
   ]
  },
  {
   "cell_type": "code",
   "execution_count": 12,
   "metadata": {},
   "outputs": [],
   "source": [
    "# Define actions for button clicks\n",
    "def set_goal_click(b):\n",
    "    set_goal(goal_x.value, goal_y.value)\n",
    "\n",
    "def cancel_goal_click(b):\n",
    "    cancel_goal()"
   ]
  },
  {
   "cell_type": "code",
   "execution_count": 13,
   "metadata": {},
   "outputs": [],
   "source": [
    "# Assign actions to buttons\n",
    "set_goal_button.on_click(set_goal_click)\n",
    "cancel_goal_button.on_click(cancel_goal_click)"
   ]
  },
  {
   "cell_type": "code",
   "execution_count": 14,
   "metadata": {},
   "outputs": [],
   "source": [
    "# Subscribe to goal status updates\n",
    "goal_status_sub = rospy.Subscriber('/reaching_goal/status', GoalStatus, status_update)"
   ]
  },
  {
   "cell_type": "code",
   "execution_count": 15,
   "metadata": {},
   "outputs": [],
   "source": [
    "# Update past goals display\n",
    "def update_past_goals_display():\n",
    "    global past_goals_display\n",
    "    goals_str = \"<ul>\"\n",
    "    for goal in past_goals:\n",
    "        goals_str += f\"<li>X: {goal[0]}, Y: {goal[1]}</li>\"\n",
    "    goals_str += \"</ul>\"\n",
    "    past_goals_display.value = goals_str"
   ]
  },
  {
   "cell_type": "code",
   "execution_count": 16,
   "metadata": {},
   "outputs": [],
   "source": [
    "# Call update function initially\n",
    "update_past_goals_display()"
   ]
  },
  {
   "cell_type": "code",
   "execution_count": 17,
   "metadata": {},
   "outputs": [],
   "source": [
    "# Create widgets for displaying reached and unreached goals\n",
    "reached_label = widgets.Label(value=f'Reached Goals: {reached_goals}')\n",
    "unreached_label = widgets.Label(value=f'Unreached Goals: {unreached_goals}')"
   ]
  },
  {
   "cell_type": "code",
   "execution_count": 18,
   "metadata": {},
   "outputs": [],
   "source": [
    "# %matplotlib widget\n",
    "\n",
    "# font_family = {'family': 'arial', 'color':  'navy', 'weight': 'bold', 'size': 20}\n",
    "# font_family_smaller = {'family': 'arial', 'color':  'navy', 'weight': 'bold', 'size': 15}\n",
    "\n",
    "\n",
    "# fig, ax = plt.subplots()\n",
    "# xdata, ydata = [], []\n",
    "# ln, = plt.plot([], [], 'bo', linewidth = 1)\n",
    "# scat = ax.scatter([], [], color = 'red', s = 50, label = 'Ongoing goal')\n",
    "\n",
    "# ax.plot([9.5,-9.5,-9.5,9.5,9.5],[9.5,9.5,-9.5,-9.5,9.5],'navy', linewidth = 5)\n",
    "# ax.plot([4, -5, -5], [-0.5, -0.5, -5], 'navy', linewidth = 6)\n",
    "# ax.plot([-6.5,5], [4.75,4.75], 'navy', linewidth = 6)\n",
    "  \n",
    "\n",
    "# def init():\n",
    "#     ax.set_xlim(10,-10)\n",
    "#     ax.set_ylim(10,-10)\n",
    "#     ax.set_xlabel('x', fontdict = font_family_smaller)\n",
    "#     ax.set_ylabel('y', fontdict = font_family_smaller, rotation = 0)\n",
    "#     return ln, scat\n",
    "\n",
    "# def update(frame):\n",
    "#     global old_my_pos_and_vel\n",
    "#     print_pos_x = old_my_pos_and_vel.pos_x\n",
    "#     print_pos_y = old_my_pos_and_vel.pos_y\n",
    "\n",
    "#     xdata.append(print_pos_x)\n",
    "#     ydata.append(print_pos_y)\n",
    "\n",
    "#     ln.set_data(xdata, ydata)\n",
    "#     scat.set_offsets([rospy.get_param('/des_pos_x'), rospy.get_param('/des_pos_y')])\n",
    "#     return ln,\n",
    "\n",
    "# ani = FuncAnimation(fig, update, init_func=init, blit=True)\n",
    "\n",
    "# fig.canvas.header_visible = False\n",
    "# fig.canvas.footer_visible = False\n",
    "# fig.canvas.toolbar_visible = False\n",
    "# fig.canvas.resizable = False\n",
    "\n",
    "# ax.set_title('ROBOT LIVE POSITION', fontdict = font_family)\n",
    "# ax.grid(True)\n",
    "\n",
    "\n",
    "\n",
    "# plt.show()\n"
   ]
  },
  {
   "cell_type": "code",
   "execution_count": null,
   "metadata": {
    "scrolled": false
   },
   "outputs": [],
   "source": []
  },
  {
   "cell_type": "code",
   "execution_count": 51,
   "metadata": {},
   "outputs": [
    {
     "data": {
      "text/html": [
       "\n",
       "<div class=\"section-title\">Set the GOAL position of the robot</div>\n"
      ],
      "text/plain": [
       "<IPython.core.display.HTML object>"
      ]
     },
     "metadata": {},
     "output_type": "display_data"
    },
    {
     "data": {
      "text/html": [
       "\n",
       "<style>\n",
       "    .section-title {\n",
       "        font-family: Arial, sans-serif;\n",
       "        color: navy;\n",
       "        font-weight: bold;\n",
       "        font-size: 30px;\n",
       "        margin-bottom: 10px;\n",
       "        margin-left: 200px;\n",
       "    }\n",
       "</style>\n",
       "\n",
       "<div class=\"section-title-big\">Control panel</div>\n"
      ],
      "text/plain": [
       "<IPython.core.display.HTML object>"
      ]
     },
     "metadata": {},
     "output_type": "display_data"
    },
    {
     "data": {
      "application/vnd.jupyter.widget-view+json": {
       "model_id": "1fac090e27ba4b4089fafac75a73ef28",
       "version_major": 2,
       "version_minor": 0
      },
      "text/plain": [
       "HBox(children=(VBox(children=(VBox(children=(FloatSlider(value=5.0, description='desired x:', layout=Layout(wi…"
      ]
     },
     "metadata": {},
     "output_type": "display_data"
    },
    {
     "data": {
      "application/vnd.jupyter.widget-view+json": {
       "model_id": "b5f1a56109fd427bb33a2efc383b6fdb",
       "version_major": 2,
       "version_minor": 0
      },
      "text/plain": [
       "Canvas(toolbar=Toolbar(toolitems=[('Home', 'Reset original view', 'home', 'home'), ('Back', 'Back to previous …"
      ]
     },
     "metadata": {},
     "output_type": "display_data"
    }
   ],
   "source": [
    "import matplotlib.pyplot as plt\n",
    "import ipywidgets as widgets\n",
    "from IPython.display import display, HTML\n",
    "from matplotlib.animation import FuncAnimation\n",
    "\n",
    "# Font settings\n",
    "font_family = {'family': 'arial', 'color': 'navy', 'weight': 'bold', 'size': 20}\n",
    "font_family_smaller = {'family': 'arial', 'color': 'navy', 'weight': 'bold', 'size': 15}\n",
    "\n",
    "# Define CSS styles for different sections\n",
    "css_styles = '''\n",
    "<style>\n",
    "    .section-title {\n",
    "        font-family: Arial, sans-serif;\n",
    "        color: navy;\n",
    "        font-weight: bold;\n",
    "        font-size: 30px;\n",
    "        margin-bottom: 10px;\n",
    "        margin-left: 200px;\n",
    "    }\n",
    "</style>\n",
    "'''\n",
    "\n",
    "\n",
    "# Display the section titles using HTML\n",
    "html_goal_settings = '''\n",
    "<div class=\"section-title\">Set the GOAL position of the robot</div>\n",
    "'''\n",
    "display(HTML(html_goal_settings))\n",
    "\n",
    "# Style widgets \n",
    "goal_x.layout.width = '400px'\n",
    "goal_y.layout.width = '400px'\n",
    "set_goal_button.style.button_color = 'lightblue'\n",
    "cancel_goal_button.style.button_color = 'lightcoral'\n",
    "status_text.layout.margin = '20px 0'\n",
    "position_display.layout.margin = '20px 0'\n",
    "past_goals_display.layout.max_width = '400px'\n",
    "\n",
    "# Arrange widgets\n",
    "goal_setting_widgets = widgets.VBox([goal_x, goal_y, widgets.HBox([set_goal_button, cancel_goal_button], layout=widgets.Layout(justify_content='center'))])\n",
    "status_widgets = widgets.VBox([status_text, position_display], layout=widgets.Layout(justify_content='center'))\n",
    "\n",
    "central_column = widgets.VBox([\n",
    "    goal_setting_widgets,\n",
    "    status_widgets,\n",
    "], layout=widgets.Layout(justify_content='center', align_items='center'))\n",
    "\n",
    "# Arrange widgets for past goals in a VBox\n",
    "past_goals_section = widgets.VBox([\n",
    "    widgets.Label(\"Past Goals\", style=font_family), \n",
    "    past_goals_display\n",
    "], layout=widgets.Layout(justify_content='center'))\n",
    "\n",
    "\n",
    "display(HTML(css_styles+html_general_title))\n",
    "# Combine central column and past goals section in an HBox\n",
    "hbox_layout = widgets.Layout(justify_content='center')\n",
    "display(widgets.HBox([central_column, past_goals_section], layout=hbox_layout))\n",
    "\n",
    "\n",
    "%matplotlib widget\n",
    "fig, ax = plt.subplots(1, 2, figsize=(10, 4))\n",
    "xdata, ydata = [], []\n",
    "ln, = ax[0].plot([], [], 'bo', linewidth=1, label='Current position')\n",
    "scat = ax[0].scatter([], [], color='red', s=50, label='Ongoing goal')\n",
    "\n",
    "ax[0].plot([9.5, -9.5, -9.5, 9.5, 9.5], [9.5, 9.5, -9.5, -9.5, 9.5], 'navy', linewidth=5)\n",
    "ax[0].plot([4, -5, -5], [-0.5, -0.5, -5], 'navy', linewidth=6)\n",
    "ax[0].plot([-6.5, 5], [4.75, 4.75], 'navy', linewidth=6)\n",
    "\n",
    "\n",
    "def init():\n",
    "    ax[0].set_xlim(10, -10)\n",
    "    ax[0].set_ylim(10, -10)\n",
    "    ax[0].set_xlabel('x', fontdict=font_family_smaller)\n",
    "    ax[0].set_ylabel('y', fontdict=font_family_smaller, rotation=0)\n",
    "    return ln, scat\n",
    "\n",
    "\n",
    "def update(frame):\n",
    "    global old_my_pos_and_vel\n",
    "    print_pos_x = old_my_pos_and_vel.pos_x\n",
    "    print_pos_y = old_my_pos_and_vel.pos_y\n",
    "\n",
    "    xdata.append(print_pos_x)\n",
    "    ydata.append(print_pos_y)\n",
    "\n",
    "    ln.set_data(xdata, ydata)\n",
    "    scat.set_offsets([rospy.get_param('/des_pos_x'), rospy.get_param('/des_pos_y')])\n",
    "    \n",
    "    \n",
    "    return ln, scat\n",
    "\n",
    "\n",
    "ani = FuncAnimation(fig, update, init_func=init, blit=True)\n",
    "\n",
    "fig.canvas.header_visible = False\n",
    "fig.canvas.footer_visible = False\n",
    "fig.canvas.toolbar_visible = False\n",
    "fig.canvas.resizable = False\n",
    "\n",
    "ax[0].set_title('ROBOT LIVE POSITION', fontdict=font_family)\n",
    "ax[0].grid(True)\n",
    "ax[0].legend()\n",
    "\n",
    "\n",
    "# PIE\n",
    "\n",
    "labels = 'Reached goals', 'Unreached goals'\n",
    "\n",
    "if (reached_goals == 0 and unreached_goals == 0):\n",
    "    sizes = [0, 100]\n",
    "else:\n",
    "    sizes = [reached_goals, unreached_goals]\n",
    "\n",
    "colors = ['green', 'red']\n",
    "explode = (0, 0.1)  # only \"explode\" the 2nd slice (i.e. 'Hogs')\n",
    "ax[1].pie(sizes, explode=explode, labels=labels, colors=colors, autopct='%1.1f%%',\n",
    "          shadow=True, startangle=90)\n",
    "ax[1].axis('equal')  # Equal aspect ratio ensures that pie is drawn as a circle.\n",
    "ax[1].set_title('GOALS STATISTICS', fontdict=font_family)\n",
    "\n",
    "plt.show()\n"
   ]
  },
  {
   "cell_type": "code",
   "execution_count": 20,
   "metadata": {},
   "outputs": [],
   "source": [
    "####"
   ]
  },
  {
   "cell_type": "code",
   "execution_count": 25,
   "metadata": {},
   "outputs": [
    {
     "data": {
      "application/vnd.jupyter.widget-view+json": {
       "model_id": "e8960bd5dffe4902b14667275e3e327e",
       "version_major": 2,
       "version_minor": 0
      },
      "text/plain": [
       "HBox(children=(VBox(children=(VBox(children=(FloatSlider(value=0.0, description='desired x:', layout=Layout(wi…"
      ]
     },
     "metadata": {},
     "output_type": "display_data"
    },
    {
     "data": {
      "application/vnd.jupyter.widget-view+json": {
       "model_id": "4aabb6a844674d34b5b50dcefba0f11c",
       "version_major": 2,
       "version_minor": 0
      },
      "text/plain": [
       "Canvas(toolbar=Toolbar(toolitems=[('Home', 'Reset original view', 'home', 'home'), ('Back', 'Back to previous …"
      ]
     },
     "metadata": {},
     "output_type": "display_data"
    },
    {
     "name": "stdout",
     "output_type": "stream",
     "text": [
      "[INFO] [1713360944.092861, 2678.846000]: Inserted goal: des_x = 2.000000, des_y = 0.000000\n",
      "[INFO] [1713360960.376816, 2691.325000]: Goal cancelled\n"
     ]
    }
   ],
   "source": [
    "# QUELLO VEROOOOOOO\n",
    "\n",
    "# Style widgets \n",
    "goal_x.layout.width = '400px'\n",
    "goal_y.layout.width = '400px'\n",
    "set_goal_button.style.button_color = 'lightblue'\n",
    "cancel_goal_button.style.button_color = 'lightcoral'\n",
    "status_text.layout.margin = '20px 0'\n",
    "position_display.layout.margin = '20px 0'\n",
    "past_goals_display.layout.max_width = '400px'\n",
    "\n",
    "# Arrange widgets\n",
    "goal_setting_widgets = widgets.VBox([goal_x, goal_y, HBox([set_goal_button, cancel_goal_button], layout=Layout(justify_content='center'))])\n",
    "status_widgets = widgets.VBox([status_text, position_display], layout=Layout(justify_content='center'))\n",
    "#central_column = widgets.VBox([goal_setting_widgets, status_widgets, past_goals_display], layout=Layout(justify_content='center', align_items='center'))\n",
    "central_column = widgets.VBox([goal_setting_widgets, status_widgets, past_goals_display], layout=Layout(justify_content='center', align_items='center'))\n",
    "\n",
    "central_column.layout = widgets.Layout(width = '100%', height = '100%', overflow_y = 'hidden', justify_content = 'center', align_items = 'center')\n",
    "\n",
    "# Display widgets\n",
    "# display(widgets.HBox([central_column, plot_widget]))\n",
    "display(widgets.HBox([central_column]))\n",
    "\n",
    "\n",
    "%matplotlib widget\n",
    "fig, ax = plt.subplots(1,2, figsize = (10,4))\n",
    "xdata, ydata = [], []\n",
    "ln, = plt.plot([], [], 'bo', linewidth = 1, label = 'Current position')\n",
    "scat = ax[0].scatter([], [], color = 'red', s = 50, label = 'Ongoing goal')\n",
    "\n",
    "ax[0].plot([9.5,-9.5,-9.5,9.5,9.5],[9.5,9.5,-9.5,-9.5,9.5],'navy', linewidth = 5)\n",
    "ax[0].plot([4, -5, -5], [-0.5, -0.5, -5], 'navy', linewidth = 6)\n",
    "ax[0].plot([-6.5,5], [4.75,4.75], 'navy', linewidth = 6)\n",
    "  \n",
    "\n",
    "def init():\n",
    "    ax[0].set_xlim(10,-10)\n",
    "    ax[0].set_ylim(10,-10)\n",
    "    ax[0].set_xlabel('x', fontdict = font_family_smaller)\n",
    "    ax[0].set_ylabel('y', fontdict = font_family_smaller, rotation = 0)\n",
    "    return ln, scat\n",
    "\n",
    "def update(frame):\n",
    "    global old_my_pos_and_vel\n",
    "    print_pos_x = old_my_pos_and_vel.pos_x\n",
    "    print_pos_y = old_my_pos_and_vel.pos_y\n",
    "\n",
    "    xdata.append(print_pos_x)\n",
    "    ydata.append(print_pos_y)\n",
    "\n",
    "    ln.set_data(xdata, ydata)\n",
    "    scat.set_offsets([rospy.get_param('/des_pos_x'), rospy.get_param('/des_pos_y')])\n",
    "    return ln, scat\n",
    "\n",
    "ani = FuncAnimation(fig, update, init_func=init, blit=True)\n",
    "\n",
    "fig.canvas.header_visible = False\n",
    "fig.canvas.footer_visible = False\n",
    "fig.canvas.toolbar_visible = False\n",
    "fig.canvas.resizable = False\n",
    "\n",
    "ax[0].set_title('ROBOT LIVE POSITION', fontdict = font_family)\n",
    "ax[0].grid(True)\n",
    "ax[0].legend()\n",
    "\n",
    "\n",
    "# PIE\n",
    "\n",
    "labels = 'Reached goals', 'Unreached goals'\n",
    "\n",
    "if (reached_goals == 0 and unreached_goals == 0):\n",
    "    sizes = [ 0, 100]\n",
    "else: \n",
    "    sizes = [reached_goals, unreached_goals]\n",
    "    \n",
    "colors = ['green', 'red']\n",
    "explode = (0, 0.1) # only \"explode\" the 2nd slice (i.e. 'Hogs')\n",
    "ax[1].pie(sizes, explode=explode, labels=labels, colors=colors, autopct='%1.1f%%',\n",
    "shadow=True, startangle=90)\n",
    "ax[1].axis('equal') # Equal aspect ratio ensures that pie is drawn as a circle.\n",
    "ax[1].set_title('GOALS STATISTICS', fontdict=font_family)\n",
    "\n",
    "\n",
    "plt.show()\n"
   ]
  },
  {
   "cell_type": "code",
   "execution_count": 22,
   "metadata": {},
   "outputs": [],
   "source": [
    "#####"
   ]
  },
  {
   "cell_type": "code",
   "execution_count": 23,
   "metadata": {},
   "outputs": [
    {
     "data": {
      "application/vnd.jupyter.widget-view+json": {
       "model_id": "0acb1515fd864c29827c81985b160e0b",
       "version_major": 2,
       "version_minor": 0
      },
      "text/plain": [
       "HBox(children=(VBox(children=(VBox(children=(FloatSlider(value=0.0, description='desired x:', layout=Layout(wi…"
      ]
     },
     "metadata": {},
     "output_type": "display_data"
    },
    {
     "data": {
      "application/vnd.jupyter.widget-view+json": {
       "model_id": "9938a0b85cb04981aa73d09d4bd64f61",
       "version_major": 2,
       "version_minor": 0
      },
      "text/plain": [
       "Canvas(toolbar=Toolbar(toolitems=[('Home', 'Reset original view', 'home', 'home'), ('Back', 'Back to previous …"
      ]
     },
     "metadata": {},
     "output_type": "display_data"
    }
   ],
   "source": [
    "# Style widgets \n",
    "goal_x.layout.width = '400px'\n",
    "goal_y.layout.width = '400px'\n",
    "set_goal_button.style.button_color = 'lightblue'\n",
    "cancel_goal_button.style.button_color = 'lightcoral'\n",
    "status_text.layout.margin = '20px 0'\n",
    "position_display.layout.margin = '20px 0'\n",
    "past_goals_display.layout.max_width = '400px'\n",
    "\n",
    "# Arrange widgets\n",
    "goal_setting_widgets = widgets.VBox([goal_x, goal_y, HBox([set_goal_button, cancel_goal_button], layout=Layout(justify_content='center'))])\n",
    "status_widgets = widgets.VBox([status_text, position_display], layout=Layout(justify_content='center'))\n",
    "central_column = widgets.VBox([goal_setting_widgets, status_widgets, past_goals_display], layout=Layout(justify_content='center', align_items='center'))\n",
    "\n",
    "central_column.layout = widgets.Layout(width = '100%', height = '100%', overflow_y = 'hidden', justify_content = 'center', align_items = 'center')\n",
    "\n",
    "# Display widgets\n",
    "# display(widgets.HBox([central_column, plot_widget]))\n",
    "display(widgets.HBox([central_column]))\n",
    "\n",
    "%matplotlib widget\n",
    "fig, ax = plt.subplots()\n",
    "xdata, ydata = [], []\n",
    "ln, = plt.plot([], [], 'bo', linewidth = 1, label = 'Current position')\n",
    "scat = ax.scatter([], [], color = 'red', s = 50, label = 'Ongoing goal')\n",
    "\n",
    "ax.plot([9.5,-9.5,-9.5,9.5,9.5],[9.5,9.5,-9.5,-9.5,9.5],'navy', linewidth = 5)\n",
    "ax.plot([4, -5, -5], [-0.5, -0.5, -5], 'navy', linewidth = 6)\n",
    "ax.plot([-6.5,5], [4.75,4.75], 'navy', linewidth = 6)\n",
    "  \n",
    "\n",
    "def init():\n",
    "    ax.set_xlim(10,-10)\n",
    "    ax.set_ylim(10,-10)\n",
    "    ax.set_xlabel('x', fontdict = font_family_smaller)\n",
    "    ax.set_ylabel('y', fontdict = font_family_smaller, rotation = 0)\n",
    "    return ln, scat\n",
    "\n",
    "def update(frame):\n",
    "    global old_my_pos_and_vel\n",
    "    print_pos_x = old_my_pos_and_vel.pos_x\n",
    "    print_pos_y = old_my_pos_and_vel.pos_y\n",
    "\n",
    "    xdata.append(print_pos_x)\n",
    "    ydata.append(print_pos_y)\n",
    "\n",
    "    ln.set_data(xdata, ydata)\n",
    "    scat.set_offsets([rospy.get_param('/des_pos_x'), rospy.get_param('/des_pos_y')])\n",
    "    return ln,\n",
    "\n",
    "ani = FuncAnimation(fig, update, init_func=init, blit=True)\n",
    "\n",
    "fig.canvas.header_visible = False\n",
    "fig.canvas.footer_visible = False\n",
    "fig.canvas.toolbar_visible = False\n",
    "fig.canvas.resizable = False\n",
    "\n",
    "ax.set_title('ROBOT LIVE POSITION', fontdict = font_family)\n",
    "ax.grid(True)\n",
    "ax.legend()\n",
    "\n",
    "plt.show()\n",
    "\n",
    "\n",
    "\n",
    "\n",
    "\n"
   ]
  },
  {
   "cell_type": "code",
   "execution_count": 24,
   "metadata": {},
   "outputs": [
    {
     "data": {
      "application/vnd.jupyter.widget-view+json": {
       "model_id": "a87c842efd474af09a07c65de9cd1178",
       "version_major": 2,
       "version_minor": 0
      },
      "text/plain": [
       "Canvas(toolbar=Toolbar(toolitems=[('Home', 'Reset original view', 'home', 'home'), ('Back', 'Back to previous …"
      ]
     },
     "metadata": {},
     "output_type": "display_data"
    }
   ],
   "source": [
    "# Pie chart, where the slices will be ordered and plotted counter-clockwise:\n",
    "labels = 'Reached goals', 'Unreached goals'\n",
    "\n",
    "if (reached_goals == 0 and unreached_goals == 0):\n",
    "    sizes = [ 0, 100]\n",
    "else: \n",
    "    sizes = [reached_goals, unreached_goals]\n",
    "    \n",
    "colors = ['green', 'red']\n",
    "explode = (0, 0.1) # only \"explode\" the 2nd slice (i.e. 'Hogs')\n",
    "fig1, ax1 = plt.subplots()\n",
    "ax1.pie(sizes, explode=explode, labels=labels, colors=colors, autopct='%1.1f%%',\n",
    "shadow=True, startangle=90)\n",
    "ax1.axis('equal') # Equal aspect ratio ensures that pie is drawn as a circle.\n",
    "plt.show()\n"
   ]
  }
 ],
 "metadata": {
  "kernelspec": {
   "display_name": "Python 3 (ipykernel)",
   "language": "python",
   "name": "python3"
  },
  "language_info": {
   "codemirror_mode": {
    "name": "ipython",
    "version": 3
   },
   "file_extension": ".py",
   "mimetype": "text/x-python",
   "name": "python",
   "nbconvert_exporter": "python",
   "pygments_lexer": "ipython3",
   "version": "3.8.5"
  }
 },
 "nbformat": 4,
 "nbformat_minor": 2
}
