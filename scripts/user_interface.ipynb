{
 "cells": [
  {
   "cell_type": "code",
   "execution_count": 1,
   "metadata": {},
   "outputs": [],
   "source": [
    "import rospy\n",
    "import actionlib\n",
    "import actionlib.msg\n",
    "import assignment_2_2023.msg\n",
    "from std_srvs.srv import *\n",
    "import sys\n",
    "import select\n",
    "from nav_msgs.msg import Odometry\n",
    "from geometry_msgs.msg import Point, Pose, Twist\n",
    "from assignment_2_2023.msg import Vel\n",
    "from assignment_2_2023.msg import PlanningAction, PlanningGoal, PlanningResult, PlanningActionResult\n",
    "from actionlib_msgs.msg import GoalStatus\n",
    "from sensor_msgs.msg import LaserScan\n",
    "import math\n",
    "import ipywidgets as widgets\n",
    "from IPython.display import display \n",
    "from ipywidgets import Layout, HBox\n",
    "import matplotlib.pyplot as plt\n",
    "from matplotlib.animation import FuncAnimation\n",
    "from ipywidgets import interactive, fixed\n",
    "import tf\n",
    "from nav_msgs.msg import Odometry\n",
    "from tf.transformations import quaternion_matrix\n",
    "\n",
    "import numpy as np\n",
    "import matplotlib.pyplot as plt\n",
    "from matplotlib.animation import FuncAnimation\n",
    "\n"
   ]
  },
  {
   "cell_type": "code",
   "execution_count": 2,
   "metadata": {},
   "outputs": [],
   "source": [
    "# Initialize global variables\n",
    "past_goals = []\n",
    "last_goal = None  # Keep track of the last goal\n",
    "\n",
    "# keep track of reached/unreached goals\n",
    "reached_goals = 0\n",
    "unreached_goals = 0\n",
    "\n",
    "\n",
    "# Define state descriptions\n",
    "state_desc_ = {\n",
    "    0: 'Go to point',\n",
    "    1: 'Wall following',\n",
    "    2: 'Done',\n",
    "    6: 'Goal cancelled'\n",
    "}"
   ]
  },
  {
   "cell_type": "code",
   "execution_count": 3,
   "metadata": {},
   "outputs": [],
   "source": [
    "# Check if ROS node has already been initialized\n",
    "if not rospy.core.is_initialized():\n",
    "    rospy.init_node('set_target_client')"
   ]
  },
  {
   "cell_type": "code",
   "execution_count": 4,
   "metadata": {},
   "outputs": [],
   "source": [
    "# Declare position_display in the global scope\n",
    "position_display = widgets.HTML(value=\"<b>POSITION</b>: <b>x</b>: 0, <b>y</b>: 0<br><b>VELOCITY</b>: <b>linear</b>: 0, <b>angular</b>: 0}\")\n",
    "\n",
    "status_text = widgets.Label(value=\"Current Status: Unknown\")\n",
    "\n",
    "past_goals_label = widgets.HTML(value=\"<b>Past Goals:</b>\")\n",
    "past_goals_display = widgets.HTML()\n",
    "\n",
    "reached_label = widgets.Label(value=\"Reached Goals: 0\")\n",
    "unreached_label = widgets.Label(value=\"Unreached Goals: 100\")"
   ]
  },
  {
   "cell_type": "code",
   "execution_count": 5,
   "metadata": {},
   "outputs": [],
   "source": [
    "# Publisher node function to handle position values and publish them\n",
    "def publisher_node(msg):\n",
    "    global pub, old_my_pos_and_vel\n",
    "    \n",
    "    # Get the actual position and velocity\n",
    "    actual_pos = msg.pose.pose.position\n",
    "    actual_vel_linear = msg.twist.twist.linear\n",
    "    actual_vel_angular = msg.twist.twist.angular\n",
    "    \n",
    "    # Create a Vel message\n",
    "    my_pos_and_vel = Vel()\n",
    "    my_pos_and_vel.pos_x = actual_pos.x\n",
    "    my_pos_and_vel.pos_y = actual_pos.y\n",
    "    my_pos_and_vel.vel_x = actual_vel_linear.x\n",
    "    my_pos_and_vel.vel_z = actual_vel_angular.z\n",
    "\n",
    "\n",
    "    if (abs(my_pos_and_vel.pos_x - old_my_pos_and_vel.pos_x) > 0.05):\n",
    "        old_my_pos_and_vel.pos_x = my_pos_and_vel.pos_x\n",
    "    \n",
    "    \n",
    "    if (abs(my_pos_and_vel.pos_y -  old_my_pos_and_vel.pos_y) > 0.05):\n",
    "        old_my_pos_and_vel.pos_y = my_pos_and_vel.pos_y\n",
    "\n",
    "    if (abs(my_pos_and_vel.vel_x - old_my_pos_and_vel.vel_x) > 0.05):\n",
    "        old_my_pos_and_vel.vel_x = my_pos_and_vel.vel_x\n",
    "\n",
    "    if (abs(my_pos_and_vel.vel_z - old_my_pos_and_vel.vel_z) > 0.05):\n",
    "        old_my_pos_and_vel.vel_z = my_pos_and_vel.vel_z\n",
    "    \n",
    "    # Publish the position and velocity\n",
    "    pub.publish(my_pos_and_vel)\n",
    "\n",
    "    new_pos_x = \"{:.3f}\".format(old_my_pos_and_vel.pos_x)\n",
    "    new_pos_y = \"{:.3f}\".format(old_my_pos_and_vel.pos_y)\n",
    "    new_vel_x = \"{:.3f}\".format(old_my_pos_and_vel.vel_x)\n",
    "    new_vel_z = \"{:.3f}\".format(old_my_pos_and_vel.vel_z)    \n",
    "\n",
    "    \n",
    "    # Update position and velocity display\n",
    "    position_display.value = f\"<b>POSITION</b>: <b>x</b>: {new_pos_x}, <b>y</b>: {new_pos_y}<br><b>VELOCITY</b>: <b>linear</b>: {new_vel_x}, <b>angular</b>: {new_vel_z}\"\n",
    "    "
   ]
  },
  {
   "cell_type": "code",
   "execution_count": 6,
   "metadata": {},
   "outputs": [],
   "source": [
    "global old_my_pos_and_vel\n",
    "old_my_pos_and_vel = Vel()\n",
    "\n",
    "old_my_pos_and_vel.pos_x = 0.0\n",
    "old_my_pos_and_vel.pos_y = 0.0\n",
    "old_my_pos_and_vel.vel_x = 0.0\n",
    "old_my_pos_and_vel.vel_z = 0.0\n",
    "\n",
    "# Initialize publisher\n",
    "pub = rospy.Publisher('/pos_vel', Vel, queue_size=10)\n",
    "\n",
    "# Initialize subscriber\n",
    "sub_from_Odom = rospy.Subscriber(\"/odom\", Odometry, publisher_node)"
   ]
  },
  {
   "cell_type": "code",
   "execution_count": 7,
   "metadata": {},
   "outputs": [],
   "source": [
    "# Function to set goal\n",
    "def set_goal(input_x, input_y):\n",
    "    global past_goals, last_goal\n",
    "    goal = PlanningGoal()\n",
    "    rospy.set_param('/des_pos_x', input_x)\n",
    "    rospy.set_param('/des_pos_y', input_y)\n",
    "    goal.target_pose.pose.position.x = input_x\n",
    "    goal.target_pose.pose.position.y = input_y\n",
    "    \n",
    "    # Check if the new goal is different from the last goal\n",
    "    if last_goal is None or (input_x, input_y) != last_goal:\n",
    "        past_goals.append((input_x, input_y))\n",
    "        last_goal = (input_x, input_y)\n",
    "        client.send_goal(goal)\n",
    "        rospy.loginfo(\"Inserted goal: des_x = %f, des_y = %f\", input_x, input_y)\n",
    "        update_past_goals_display()  # Update past goals display after setting a new goal\n",
    "    else:\n",
    "        rospy.loginfo(\"New goal is the same as the previous one. Not setting it.\")\n"
   ]
  },
  {
   "cell_type": "code",
   "execution_count": 8,
   "metadata": {},
   "outputs": [],
   "source": [
    "def cancel_goal():\n",
    "    if client.get_state() == actionlib.GoalStatus.ACTIVE:\n",
    "        client.cancel_goal()\n",
    "        rospy.loginfo(\"Goal cancelled\")\n",
    "    else:\n",
    "        rospy.loginfo(\"No active goal to cancel\")"
   ]
  },
  {
   "cell_type": "code",
   "execution_count": 10,
   "metadata": {},
   "outputs": [],
   "source": [
    "# Update status_update function\n",
    "def status_update(msg):\n",
    "    global current_status, reached_goals, unreached_goals\n",
    "    if msg.status_list:\n",
    "        current_status = msg.status_list[0].status\n",
    "        # print(\"Received current status:\", current_status)\n",
    "        if current_status in state_desc_:\n",
    "            status_text.value = f\"Current Status: {state_desc_[current_status]} ({current_status})\"\n",
    "        else:\n",
    "            status_text.value = f\"Current Status: Unknown ({current_status})\"\n",
    "        \n",
    "        if current_status == GoalStatus.SUCCEEDED:\n",
    "            reached_goals += 1\n",
    "        elif current_status == GoalStatus.ABORTED or current_status == GoalStatus.REJECTED:\n",
    "            unreached_goals += 1  \n",
    "    else:\n",
    "        status_text.value = \"Current Status: Unknown\""
   ]
  },
  {
   "cell_type": "code",
   "execution_count": 9,
   "metadata": {},
   "outputs": [
    {
     "data": {
      "text/plain": [
       "True"
      ]
     },
     "execution_count": 9,
     "metadata": {},
     "output_type": "execute_result"
    }
   ],
   "source": [
    "client = actionlib.SimpleActionClient('/reaching_goal', PlanningAction)\n",
    "client.wait_for_server()"
   ]
  },
  {
   "cell_type": "code",
   "execution_count": 11,
   "metadata": {},
   "outputs": [],
   "source": [
    "# Create widgets for setting goal\n",
    "goal_x = widgets.FloatSlider(min=-15.0, max=15.0, step=0.1, description='desired x:')\n",
    "goal_y = widgets.FloatSlider(min=-15.0, max=15.0, step=0.1, description='desired y:')\n",
    "set_goal_button = widgets.Button(description=\"Set Goal\")\n",
    "cancel_goal_button = widgets.Button(description=\"Cancel Goal\")"
   ]
  },
  {
   "cell_type": "code",
   "execution_count": 12,
   "metadata": {},
   "outputs": [],
   "source": [
    "# Define actions for button clicks\n",
    "def set_goal_click(b):\n",
    "    set_goal(goal_x.value, goal_y.value)\n",
    "\n",
    "def cancel_goal_click(b):\n",
    "    cancel_goal()"
   ]
  },
  {
   "cell_type": "code",
   "execution_count": 13,
   "metadata": {},
   "outputs": [],
   "source": [
    "# Assign actions to buttons\n",
    "set_goal_button.on_click(set_goal_click)\n",
    "cancel_goal_button.on_click(cancel_goal_click)"
   ]
  },
  {
   "cell_type": "code",
   "execution_count": 14,
   "metadata": {},
   "outputs": [],
   "source": [
    "# Subscribe to goal status updates\n",
    "goal_status_sub = rospy.Subscriber('/reaching_goal/status', GoalStatus, status_update)"
   ]
  },
  {
   "cell_type": "code",
   "execution_count": 15,
   "metadata": {},
   "outputs": [],
   "source": [
    "# Update past goals display\n",
    "def update_past_goals_display():\n",
    "    global past_goals_display\n",
    "    goals_str = \"<ul>\"\n",
    "    for goal in past_goals:\n",
    "        goals_str += f\"<li>X: {goal[0]}, Y: {goal[1]}</li>\"\n",
    "    goals_str += \"</ul>\"\n",
    "    past_goals_display.value = goals_str"
   ]
  },
  {
   "cell_type": "code",
   "execution_count": 16,
   "metadata": {},
   "outputs": [],
   "source": [
    "# Call update function initially\n",
    "update_past_goals_display()"
   ]
  },
  {
   "cell_type": "code",
   "execution_count": 17,
   "metadata": {},
   "outputs": [],
   "source": [
    "# Create widgets for displaying reached and unreached goals\n",
    "reached_label = widgets.Label(value=f'Reached Goals: {reached_goals}')\n",
    "unreached_label = widgets.Label(value=f'Unreached Goals: {unreached_goals}')"
   ]
  },
  {
   "cell_type": "code",
   "execution_count": 18,
   "metadata": {},
   "outputs": [
    {
     "data": {
      "application/vnd.jupyter.widget-view+json": {
       "model_id": "aad009c1b14e49e38357d31ddde044b1",
       "version_major": 2,
       "version_minor": 0
      },
      "text/plain": [
       "HBox(children=(VBox(children=(VBox(children=(FloatSlider(value=0.0, description='desired x:', layout=Layout(wi…"
      ]
     },
     "metadata": {},
     "output_type": "display_data"
    }
   ],
   "source": [
    "# Style widgets \n",
    "goal_x.layout.width = '400px'\n",
    "goal_y.layout.width = '400px'\n",
    "set_goal_button.style.button_color = 'lightblue'\n",
    "cancel_goal_button.style.button_color = 'lightcoral'\n",
    "status_text.layout.margin = '20px 0'\n",
    "position_display.layout.margin = '20px 0'\n",
    "past_goals_display.layout.max_width = '400px'\n",
    "\n",
    "# Arrange widgets\n",
    "goal_setting_widgets = widgets.VBox([goal_x, goal_y, HBox([set_goal_button, cancel_goal_button], layout=Layout(justify_content='center'))])\n",
    "status_widgets = widgets.VBox([status_text, position_display], layout=Layout(justify_content='center'))\n",
    "central_column = widgets.VBox([goal_setting_widgets, status_widgets, past_goals_display], layout=Layout(justify_content='center', align_items='center'))\n",
    "\n",
    "# Display widgets\n",
    "# display(widgets.HBox([central_column, plot_widget]))\n",
    "display(widgets.HBox([central_column]))\n",
    "\n"
   ]
  },
  {
   "cell_type": "markdown",
   "metadata": {},
   "source": [
    "## PLOT POSIZIONI"
   ]
  },
  {
   "cell_type": "code",
   "execution_count": 19,
   "metadata": {},
   "outputs": [
    {
     "data": {
      "image/png": "[encoded data removed]",
      "text/plain": [
       "<Figure size 432x288 with 1 Axes>"
      ]
     },
     "metadata": {
      "needs_background": "light"
     },
     "output_type": "display_data"
    }
   ],
   "source": [
    "fig, ax = plt.subplots()\n",
    "xdata, ydata = [], []\n",
    "ln, = plt.plot([], [], 'ro')\n",
    "\n",
    "def init():\n",
    "    ax.set_xlim(-9,9)\n",
    "    ax.set_ylim(-9,9)\n",
    "    return ln,\n",
    "\n",
    "def update(frame):\n",
    "    global old_my_pos_and_vel\n",
    "    print_pos_x = old_my_pos_and_vel.pos_x\n",
    "    print_pos_y = old_my_pos_and_vel.pos_y\n",
    "\n",
    "    xdata.append(print_pos_x)\n",
    "    ydata.append(print_pos_y)\n",
    "\n",
    "    ln.set_data(xdata, ydata)\n",
    "    return ln,\n",
    "\n",
    "ani = FuncAnimation(fig, update, init_func=init, blit=True)\n",
    "#plt.show()"
   ]
  },
  {
   "cell_type": "code",
   "execution_count": 20,
   "metadata": {},
   "outputs": [
    {
     "data": {
      "image/png": "[encoded data removed]",
      "text/plain": [
       "<Figure size 432x288 with 1 Axes>"
      ]
     },
     "metadata": {},
     "output_type": "display_data"
    }
   ],
   "source": [
    "# Pie chart, where the slices will be ordered and plotted counter-clockwise:\n",
    "labels = 'Reached goals', 'Unreached goals'\n",
    "\n",
    "if (reached_goals == 0 and unreached_goals == 0):\n",
    "    sizes = [ 0, 100]\n",
    "else: \n",
    "    sizes = [reached_goals, unreached_goals]\n",
    "    \n",
    "colors = ['green', 'red']\n",
    "explode = (0, 0.1) # only \"explode\" the 2nd slice (i.e. 'Hogs')\n",
    "fig1, ax1 = plt.subplots()\n",
    "ax1.pie(sizes, explode=explode, labels=labels, colors=colors, autopct='%1.1f%%',\n",
    "shadow=True, startangle=90)\n",
    "ax1.axis('equal') # Equal aspect ratio ensures that pie is drawn as a circle.\n",
    "plt.show()\n"
   ]
  }
 ],
 "metadata": {
  "kernelspec": {
   "display_name": "Python 3 (ipykernel)",
   "language": "python",
   "name": "python3"
  },
  "language_info": {
   "codemirror_mode": {
    "name": "ipython",
    "version": 3
   },
   "file_extension": ".py",
   "mimetype": "text/x-python",
   "name": "python",
   "nbconvert_exporter": "python",
   "pygments_lexer": "ipython3",
   "version": "3.8.5"
  }
 },
 "nbformat": 4,
 "nbformat_minor": 2
}
