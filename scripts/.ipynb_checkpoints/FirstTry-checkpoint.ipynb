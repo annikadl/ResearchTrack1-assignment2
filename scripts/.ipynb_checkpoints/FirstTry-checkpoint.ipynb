{
 "cells": [
  {
   "cell_type": "code",
   "execution_count": 17,
   "id": "631a7060",
   "metadata": {},
   "outputs": [],
   "source": [
    "import rospy\n",
    "import actionlib\n",
    "import actionlib.msg\n",
    "import assignment_2_2023.msg\n",
    "from std_srvs.srv import *\n",
    "import sys\n",
    "import select\n",
    "from nav_msgs.msg import Odometry\n",
    "from geometry_msgs.msg import Point, Pose, Twist\n",
    "from assignment_2_2023.msg import Vel\n",
    "from assignment_2_2023.msg import PlanningAction, PlanningGoal, PlanningResult, PlanningActionResult\n",
    "from actionlib_msgs.msg import GoalStatus\n",
    "from sensor_msgs.msg import LaserScan\n",
    "import math\n",
    "import ipywidgets as widgets\n",
    "from IPython.display import display \n",
    "from ipywidgets import Layout, HBox\n",
    "import matplotlib.pyplot as plt\n",
    "from matplotlib.animation import FuncAnimation\n",
    "from ipywidgets import interact, interactive, fixed, interact_manual\n",
    "import tf\n",
    "from nav_msgs.msg import Odometry\n",
    "from tf.transformations import quaternion_matrix\n",
    "import numpy as np\n",
    "import matplotlib as mpl\n",
    "from assignment_2_2023.srv import Last_target"
   ]
  },
  {
   "cell_type": "code",
   "execution_count": 18,
   "id": "6f314361",
   "metadata": {},
   "outputs": [],
   "source": [
    "# Define state descriptions\n",
    "state_desc_ = {\n",
    "    0: 'Go to point',\n",
    "    1: 'Wall following',\n",
    "    2: 'Done',\n",
    "    6: 'Goal cancelled'\n",
    "}"
   ]
  },
  {
   "cell_type": "code",
   "execution_count": 19,
   "id": "03996b47",
   "metadata": {},
   "outputs": [],
   "source": [
    "# Publisher node function to handle position values and publish them\n",
    "def publisher_node(msg):\n",
    "    global pub\n",
    "    \n",
    "    # Get the actual position and velocity\n",
    "    actual_pos = msg.pose.pose.position\n",
    "    actual_vel_linear = msg.twist.twist.linear\n",
    "    actual_vel_angular = msg.twist.twist.angular\n",
    "    \n",
    "    # Update position and velocity display\n",
    "    position_display.value = f\"<b>Position:</b> X: {actual_pos.x}, Y: {actual_pos.y}<br><b>Velocity:</b> Linear: {actual_vel_linear.x}, Angular: {actual_vel_angular.z}\"\n",
    "    \n",
    "    # Create a Vel message\n",
    "    my_pos_and_vel = Vel()\n",
    "    my_pos_and_vel.pos_x = actual_pos.x\n",
    "    my_pos_and_vel.pos_y = actual_pos.y\n",
    "    my_pos_and_vel.vel_x = actual_vel_linear.x\n",
    "    my_pos_and_vel.vel_z = actual_vel_angular.z\n",
    "    \n",
    "    # Publish the position and velocity\n",
    "    pub.publish(my_pos_and_vel)"
   ]
  },
  {
   "cell_type": "code",
   "execution_count": 20,
   "id": "409847bf",
   "metadata": {},
   "outputs": [],
   "source": [
    "# Initialize publisher\n",
    "pub = rospy.Publisher('/pos_vel', Vel, queue_size=10)"
   ]
  },
  {
   "cell_type": "code",
   "execution_count": 21,
   "id": "e7e6d402",
   "metadata": {},
   "outputs": [],
   "source": [
    "def set_goal(input_x, input_y):\n",
    "    goal = assignment_2_2023.msg.PlanningGoal()\n",
    "    \n",
    "    # Update ros parameters\n",
    "    rospy.set_param('/des_pos_x', input_x)\n",
    "    rospy.set_param('/des_pos_y', input_y)\n",
    "\n",
    "    # Set goal parameters\n",
    "    goal.target_pose.pose.position.x = rospy.get_param('/des_pos_x')\n",
    "    goal.target_pose.pose.position.y = rospy.get_param('/des_pos_y')\n",
    "    #goal.target_pose.pose.position.x = input_x\n",
    "    #goal.target_pose.pose.position.y = input_y\n",
    "\n",
    "    # send goal to the service\n",
    "    client.send_goal(goal)\n",
    "    rospy.loginfo(\"Inserted goal: des_x = %f, des_y = %f\", input_x, input_y)"
   ]
  },
  {
   "cell_type": "code",
   "execution_count": 22,
   "id": "3cdb55da",
   "metadata": {},
   "outputs": [],
   "source": [
    "def cancel_goal():\n",
    "    if client.get_state() == actionlib.GoalStatus.ACTIVE:\n",
    "        client.cancel_goal()\n",
    "        rospy.loginfo(\"Goal cancelled\")\n",
    "    else:\n",
    "        rospy.loginfo(\"No active goal to cancel\")"
   ]
  },
  {
   "cell_type": "code",
   "execution_count": 23,
   "id": "2982a134",
   "metadata": {},
   "outputs": [],
   "source": [
    "# Update status_update function\n",
    "def status_update(msg):\n",
    "    global current_status\n",
    "    if msg.status_list:\n",
    "        current_status = msg.status_list[0].status\n",
    "        # print(\"Received current status:\", current_status)\n",
    "        if current_status in state_desc_:\n",
    "            status_text.value = f\"Current Status: {state_desc_[current_status]} ({current_status})\"\n",
    "        else:\n",
    "            status_text.value = f\"Current Status: Unknown ({current_status})\"\n",
    "    else:\n",
    "        status_text.value = \"Current Status: Unknown\""
   ]
  },
  {
   "cell_type": "code",
   "execution_count": 24,
   "id": "802693d4",
   "metadata": {},
   "outputs": [],
   "source": [
    "# Check if ROS node has already been initialized\n",
    "if not rospy.core.is_initialized():\n",
    "    rospy.init_node('set_target_client')"
   ]
  },
  {
   "cell_type": "code",
   "execution_count": 25,
   "id": "5801d201",
   "metadata": {},
   "outputs": [
    {
     "data": {
      "text/plain": [
       "True"
      ]
     },
     "execution_count": 25,
     "metadata": {},
     "output_type": "execute_result"
    }
   ],
   "source": [
    "client = actionlib.SimpleActionClient('/reaching_goal', PlanningAction)\n",
    "client.wait_for_server()"
   ]
  },
  {
   "cell_type": "code",
   "execution_count": 26,
   "id": "56d89456",
   "metadata": {},
   "outputs": [],
   "source": [
    "# Create widgets for setting goal\n",
    "goal_x = widgets.FloatSlider(min=-15.0, max=15.0, step=0.1, description='desired x:')\n",
    "goal_y = widgets.FloatSlider(min=-15.0, max=15.0, step=0.1, description='desired y:')\n",
    "set_goal_button = widgets.Button(description=\"Set Goal\")\n",
    "cancel_goal_button = widgets.Button(description=\"Cancel Goal\")"
   ]
  },
  {
   "cell_type": "code",
   "execution_count": 27,
   "id": "af4da674",
   "metadata": {},
   "outputs": [],
   "source": [
    "# Create widgets for status update\n",
    "status_text = widgets.Label(value=\"Current Status: Unknown\")\n",
    "# Create widget for displaying position and velocity\n",
    "position_display = widgets.HTML(value=\"<b>Position:</b> X: ?, Y: ?<br><b>Velocity:</b> Linear: ?, Angular: ?\")"
   ]
  },
  {
   "cell_type": "code",
   "execution_count": 28,
   "id": "735762e5",
   "metadata": {},
   "outputs": [],
   "source": [
    "# Define actions for button clicks\n",
    "def set_goal_click(b):\n",
    "    set_goal(goal_x.value, goal_y.value)\n",
    "\n",
    "def cancel_goal_click(b):\n",
    "    cancel_goal()"
   ]
  },
  {
   "cell_type": "code",
   "execution_count": 29,
   "id": "2861ed8a",
   "metadata": {},
   "outputs": [],
   "source": [
    "# Assign actions to buttons\n",
    "set_goal_button.on_click(set_goal_click)\n",
    "cancel_goal_button.on_click(cancel_goal_click)"
   ]
  },
  {
   "cell_type": "code",
   "execution_count": 30,
   "id": "94a8e0bf",
   "metadata": {},
   "outputs": [],
   "source": [
    "# Subscribe to goal status updates\n",
    "goal_status_sub = rospy.Subscriber('/reaching_goal/status', GoalStatus, status_update)"
   ]
  },
  {
   "cell_type": "code",
   "execution_count": 31,
   "id": "94006310",
   "metadata": {
    "scrolled": true
   },
   "outputs": [
    {
     "data": {
      "application/vnd.jupyter.widget-view+json": {
       "model_id": "0c7fd166c9c34a3890daee41dff422a4",
       "version_major": 2,
       "version_minor": 0
      },
      "text/plain": [
       "VBox(children=(FloatSlider(value=0.0, description='desired x:', layout=Layout(width='400px'), max=15.0, min=-1…"
      ]
     },
     "metadata": {},
     "output_type": "display_data"
    },
    {
     "name": "stdout",
     "output_type": "stream",
     "text": [
      "[INFO] [1712154293.709163, 1476.243000]: Inserted goal: des_x = 2.000000, des_y = -2.500000\n",
      "[INFO] [1712154296.653864, 1478.408000]: Goal cancelled\n",
      "[INFO] [1712154297.448239, 1478.977000]: Inserted goal: des_x = 2.000000, des_y = -2.500000\n",
      "[INFO] [1712154299.352065, 1480.432000]: Goal cancelled\n",
      "[INFO] [1712154301.385125, 1482.108000]: No active goal to cancel\n"
     ]
    }
   ],
   "source": [
    "# Style widgets \n",
    "goal_x.layout.width = '400px'\n",
    "goal_y.layout.width = '400px'\n",
    "set_goal_button.style.button_color = 'lightblue'\n",
    "cancel_goal_button.style.button_color = 'lightcoral'\n",
    "status_text.layout.margin = '20px 0'\n",
    "position_display.layout.margin = '20px 0'\n",
    "\n",
    "layout = widgets.Layout(display='flex', flex_flow='column', align_items='center')\n",
    "\n",
    "# Display widgets\n",
    "display(widgets.VBox([goal_x, goal_y, set_goal_button, cancel_goal_button, status_text, position_display], layout=layout))"
   ]
  }
 ],
 "metadata": {
  "kernelspec": {
   "display_name": "Python 3 (ipykernel)",
   "language": "python",
   "name": "python3"
  },
  "language_info": {
   "codemirror_mode": {
    "name": "ipython",
    "version": 3
   },
   "file_extension": ".py",
   "mimetype": "text/x-python",
   "name": "python",
   "nbconvert_exporter": "python",
   "pygments_lexer": "ipython3",
   "version": "3.8.5"
  }
 },
 "nbformat": 4,
 "nbformat_minor": 5
}
