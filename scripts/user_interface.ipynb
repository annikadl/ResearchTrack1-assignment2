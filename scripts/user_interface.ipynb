{
 "cells": [
  {
   "cell_type": "code",
   "execution_count": 117,
   "metadata": {},
   "outputs": [],
   "source": [
    "import rospy\n",
    "import actionlib\n",
    "import actionlib.msg\n",
    "import assignment_2_2023.msg\n",
    "from std_srvs.srv import *\n",
    "import sys\n",
    "import select\n",
    "from nav_msgs.msg import Odometry\n",
    "from geometry_msgs.msg import Point, Pose, Twist\n",
    "from assignment_2_2023.msg import Vel\n",
    "from assignment_2_2023.msg import PlanningAction, PlanningGoal, PlanningResult, PlanningActionResult\n",
    "from actionlib_msgs.msg import GoalStatus\n",
    "from sensor_msgs.msg import LaserScan\n",
    "import math\n",
    "import ipywidgets as widgets\n",
    "from IPython.display import display \n",
    "from ipywidgets import Layout, HBox\n",
    "import matplotlib.pyplot as plt\n",
    "from matplotlib.animation import FuncAnimation\n",
    "from ipywidgets import interact, interactive, fixed, interact_manual\n",
    "import tf\n",
    "from nav_msgs.msg import Odometry\n",
    "from tf.transformations import quaternion_matrix\n",
    "import numpy as np\n",
    "import matplotlib as mpl\n",
    "from assignment_2_2023.srv import Last_target\n",
    "import re"
   ]
  },
  {
   "cell_type": "code",
   "execution_count": 118,
   "metadata": {},
   "outputs": [],
   "source": [
    "# Initialize global variables\n",
    "past_goals = []\n",
    "last_goal = None  # Keep track of the last goal\n",
    "\n",
    "# Define state descriptions\n",
    "state_desc_ = {\n",
    "    0: 'Go to point',\n",
    "    1: 'Wall following',\n",
    "    2: 'Done',\n",
    "    6: 'Goal cancelled'\n",
    "}"
   ]
  },
  {
   "cell_type": "code",
   "execution_count": 119,
   "metadata": {},
   "outputs": [],
   "source": [
    "# Check if ROS node has already been initialized\n",
    "if not rospy.core.is_initialized():\n",
    "    rospy.init_node('set_target_client')"
   ]
  },
  {
   "cell_type": "code",
   "execution_count": 120,
   "metadata": {},
   "outputs": [],
   "source": [
    "# Declare position_display in the global scope\n",
    "position_display = widgets.HTML(value=\"<b><u>Position:</u></b> <b>X</b>: 0, <b>Y</b>: 0<br><b><u>Velocity:</u></b> <b>Linear</b>: 0, <b>Angular</b>: 0\")\n",
    "\n",
    "status_text = widgets.Label(value=\"Current Status: Unknown\")\n",
    "\n",
    "past_goals_label = widgets.HTML(value=\"<b>Past Goals:</b>\")\n",
    "past_goals_display = widgets.HTML()"
   ]
  },
  {
   "cell_type": "code",
   "execution_count": 121,
   "metadata": {},
   "outputs": [],
   "source": [
    "# Publisher node function to handle position values and publish them\n",
    "def publisher_node(msg):\n",
    "    global pub, old_my_pos_and_vel\n",
    "    \n",
    "    # Get the actual position and velocity\n",
    "    actual_pos = msg.pose.pose.position\n",
    "    actual_vel_linear = msg.twist.twist.linear\n",
    "    actual_vel_angular = msg.twist.twist.angular\n",
    "    \n",
    "    # Create a Vel message\n",
    "    my_pos_and_vel = Vel()\n",
    "    my_pos_and_vel.pos_x = actual_pos.x\n",
    "    my_pos_and_vel.pos_y = actual_pos.y\n",
    "    my_pos_and_vel.vel_x = actual_vel_linear.x\n",
    "    my_pos_and_vel.vel_z = actual_vel_angular.z\n",
    "\n",
    "\n",
    "    if (abs(my_pos_and_vel.pos_x - old_my_pos_and_vel.pos_x) > 0.05):\n",
    "        old_my_pos_and_vel.pos_x = my_pos_and_vel.pos_x\n",
    "    \n",
    "    \n",
    "    if (abs(my_pos_and_vel.pos_y -  old_my_pos_and_vel.pos_y) > 0.05):\n",
    "        old_my_pos_and_vel.pos_y = my_pos_and_vel.pos_y\n",
    "\n",
    "    if (abs(my_pos_and_vel.vel_x - old_my_pos_and_vel.vel_x) > 0.05):\n",
    "        old_my_pos_and_vel.vel_x = my_pos_and_vel.vel_x\n",
    "\n",
    "    if (abs(my_pos_and_vel.vel_z - old_my_pos_and_vel.vel_z) > 0.05):\n",
    "        old_my_pos_and_vel.vel_z = my_pos_and_vel.vel_z\n",
    "    \n",
    "    # Publish the position and velocity\n",
    "    pub.publish(my_pos_and_vel)\n",
    "\n",
    "    new_pos_x = \"{:.3f}\".format(old_my_pos_and_vel.pos_x)\n",
    "    new_pos_y = \"{:.3f}\".format(old_my_pos_and_vel.pos_y)\n",
    "    new_vel_x = \"{:.3f}\".format(old_my_pos_and_vel.vel_x)\n",
    "    new_vel_z = \"{:.3f}\".format(old_my_pos_and_vel.vel_z)    \n",
    "    \n",
    "    # Update position and velocity display\n",
    "    position_display.value = f\"<b>Position:</b> X: {new_pos_x}, Y: {new_pos_y}<br><b>Velocity:</b> Linear: {new_vel_x}, Angular: {new_vel_z}\"\n",
    "    "
   ]
  },
  {
   "cell_type": "code",
   "execution_count": 122,
   "metadata": {},
   "outputs": [],
   "source": [
    "global old_my_pos_and_vel\n",
    "old_my_pos_and_vel = Vel()\n",
    "\n",
    "old_my_pos_and_vel.pos_x = 0.0\n",
    "old_my_pos_and_vel.pos_y = 0.0\n",
    "old_my_pos_and_vel.vel_x = 0.0\n",
    "old_my_pos_and_vel.vel_z = 0.0\n",
    "\n",
    "# Initialize publisher\n",
    "pub = rospy.Publisher('/pos_vel', Vel, queue_size=10)\n",
    "\n",
    "# Initialize subscriber\n",
    "sub_from_Odom = rospy.Subscriber(\"/odom\", Odometry, publisher_node)"
   ]
  },
  {
   "cell_type": "code",
   "execution_count": 123,
   "metadata": {},
   "outputs": [],
   "source": [
    "# def set_goal(input_x, input_y):\n",
    "#     global past_goals\n",
    "#     goal = assignment_2_2023.msg.PlanningGoal()\n",
    "    \n",
    "#     # Update ros parameters\n",
    "#     rospy.set_param('/des_pos_x', input_x)\n",
    "#     rospy.set_param('/des_pos_y', input_y)\n",
    "\n",
    "#     # Set goal parameters\n",
    "#     goal.target_pose.pose.position.x = rospy.get_param('/des_pos_x')\n",
    "#     goal.target_pose.pose.position.y = rospy.get_param('/des_pos_y')\n",
    "#     #goal.target_pose.pose.position.x = input_x\n",
    "#     #goal.target_pose.pose.position.y = input_y\n",
    "#     past_goals.append((input_x, input_y))\n",
    "\n",
    "#     # send goal to the service\n",
    "#     client.send_goal(goal)\n",
    "#     rospy.loginfo(\"Inserted goal: des_x = %f, des_y = %f\", input_x, input_y)\n",
    "#     update_past_goals_display()\n",
    "\n",
    "    # Function to set goal\n",
    "def set_goal(input_x, input_y):\n",
    "    global past_goals, last_goal\n",
    "    goal = PlanningGoal()\n",
    "    rospy.set_param('/des_pos_x', input_x)\n",
    "    rospy.set_param('/des_pos_y', input_y)\n",
    "    goal.target_pose.pose.position.x = input_x\n",
    "    goal.target_pose.pose.position.y = input_y\n",
    "    \n",
    "    # Check if the new goal is different from the last goal\n",
    "    if last_goal is None or (input_x, input_y) != last_goal:\n",
    "        past_goals.append((input_x, input_y))\n",
    "        last_goal = (input_x, input_y)\n",
    "        client.send_goal(goal)\n",
    "        rospy.loginfo(\"Inserted goal: des_x = %f, des_y = %f\", input_x, input_y)\n",
    "        update_past_goals_display()  # Update past goals display after setting a new goal\n",
    "    else:\n",
    "        rospy.loginfo(\"New goal is the same as the previous one. Not setting it.\")\n"
   ]
  },
  {
   "cell_type": "code",
   "execution_count": 124,
   "metadata": {},
   "outputs": [],
   "source": [
    "def cancel_goal():\n",
    "    if client.get_state() == actionlib.GoalStatus.ACTIVE:\n",
    "        client.cancel_goal()\n",
    "        rospy.loginfo(\"Goal cancelled\")\n",
    "    else:\n",
    "        rospy.loginfo(\"No active goal to cancel\")"
   ]
  },
  {
   "cell_type": "code",
   "execution_count": 125,
   "metadata": {},
   "outputs": [],
   "source": [
    "# Update status_update function\n",
    "def status_update(msg):\n",
    "    global current_status\n",
    "    if msg.status_list:\n",
    "        current_status = msg.status_list[0].status\n",
    "        # print(\"Received current status:\", current_status)\n",
    "        if current_status in state_desc_:\n",
    "            status_text.value = f\"Current Status: {state_desc_[current_status]} ({current_status})\"\n",
    "        else:\n",
    "            status_text.value = f\"Current Status: Unknown ({current_status})\"\n",
    "    else:\n",
    "        status_text.value = \"Current Status: Unknown\""
   ]
  },
  {
   "cell_type": "code",
   "execution_count": 126,
   "metadata": {},
   "outputs": [
    {
     "data": {
      "text/plain": [
       "True"
      ]
     },
     "execution_count": 126,
     "metadata": {},
     "output_type": "execute_result"
    }
   ],
   "source": [
    "client = actionlib.SimpleActionClient('/reaching_goal', PlanningAction)\n",
    "client.wait_for_server()"
   ]
  },
  {
   "cell_type": "code",
   "execution_count": 127,
   "metadata": {},
   "outputs": [
    {
     "name": "stdout",
     "output_type": "stream",
     "text": [
      "[INFO] [1712672321.777737, 2291.365000]: Inserted goal: des_x = 1.900000, des_y = 0.000000\n",
      "[INFO] [1712672322.592075, 2291.993000]: New goal is the same as the previous one. Not setting it.\n",
      "[INFO] [1712672323.318225, 2292.489000]: New goal is the same as the previous one. Not setting it.\n",
      "[INFO] [1712672323.563232, 2292.653000]: New goal is the same as the previous one. Not setting it.\n",
      "[INFO] [1712672325.241391, 2294.014000]: Inserted goal: des_x = 1.900000, des_y = -3.300000\n",
      "[INFO] [1712672325.927513, 2294.441000]: No active goal to cancel\n",
      "[INFO] [1712672326.466281, 2294.871000]: New goal is the same as the previous one. Not setting it.\n",
      "[INFO] [1712672328.191572, 2296.158000]: Inserted goal: des_x = 1.900000, des_y = 5.800000\n",
      "[INFO] [1712672330.308078, 2297.759000]: Inserted goal: des_x = -3.300000, des_y = 5.800000\n",
      "[INFO] [1712672348.587708, 2312.738000]: Goal cancelled\n"
     ]
    }
   ],
   "source": [
    "# Create widgets for setting goal\n",
    "goal_x = widgets.FloatSlider(min=-15.0, max=15.0, step=0.1, description='desired x:')\n",
    "goal_y = widgets.FloatSlider(min=-15.0, max=15.0, step=0.1, description='desired y:')\n",
    "set_goal_button = widgets.Button(description=\"Set Goal\")\n",
    "cancel_goal_button = widgets.Button(description=\"Cancel Goal\")"
   ]
  },
  {
   "cell_type": "code",
   "execution_count": 128,
   "metadata": {},
   "outputs": [],
   "source": [
    "# Define actions for button clicks\n",
    "def set_goal_click(b):\n",
    "    set_goal(goal_x.value, goal_y.value)\n",
    "\n",
    "def cancel_goal_click(b):\n",
    "    cancel_goal()"
   ]
  },
  {
   "cell_type": "code",
   "execution_count": 129,
   "metadata": {},
   "outputs": [],
   "source": [
    "# Assign actions to buttons\n",
    "set_goal_button.on_click(set_goal_click)\n",
    "cancel_goal_button.on_click(cancel_goal_click)"
   ]
  },
  {
   "cell_type": "code",
   "execution_count": 130,
   "metadata": {},
   "outputs": [],
   "source": [
    "# Subscribe to goal status updates\n",
    "goal_status_sub = rospy.Subscriber('/reaching_goal/status', GoalStatus, status_update)"
   ]
  },
  {
   "cell_type": "code",
   "execution_count": 131,
   "metadata": {},
   "outputs": [],
   "source": [
    "# Update past goals display\n",
    "def update_past_goals_display():\n",
    "    global past_goals_display\n",
    "    goals_str = \"<ul>\"\n",
    "    for goal in past_goals:\n",
    "        goals_str += f\"<li>X: {goal[0]}, Y: {goal[1]}</li>\"\n",
    "    goals_str += \"</ul>\"\n",
    "    past_goals_display.value = goals_str"
   ]
  },
  {
   "cell_type": "code",
   "execution_count": 132,
   "metadata": {},
   "outputs": [],
   "source": [
    "# Call update function initially\n",
    "update_past_goals_display()"
   ]
  },
  {
   "cell_type": "code",
   "execution_count": 133,
   "metadata": {},
   "outputs": [
    {
     "data": {
      "application/vnd.jupyter.widget-view+json": {
       "model_id": "092176ad0aee40d3949a24e14e596bc3",
       "version_major": 2,
       "version_minor": 0
      },
      "text/plain": [
       "VBox(children=(FloatSlider(value=0.0, description='desired x:', layout=Layout(width='400px'), max=15.0, min=-1…"
      ]
     },
     "metadata": {},
     "output_type": "display_data"
    }
   ],
   "source": [
    "# Style widgets \n",
    "goal_x.layout.width = '400px'\n",
    "goal_y.layout.width = '400px'\n",
    "set_goal_button.style.button_color = 'lightblue'\n",
    "cancel_goal_button.style.button_color = 'lightcoral'\n",
    "status_text.layout.margin = '20px 0'\n",
    "position_display.layout.margin = '20px 0'\n",
    "\n",
    "layout = widgets.Layout(display='flex', flex_flow='column', align_items='center')\n",
    "\n",
    "# Display widgets\n",
    "display(widgets.VBox([\n",
    "    goal_x, \n",
    "    goal_y, \n",
    "    set_goal_button, \n",
    "    cancel_goal_button, \n",
    "    status_text, \n",
    "    position_display,\n",
    "    past_goals_label,\n",
    "    past_goals_display\n",
    "], layout=layout))"
   ]
  }
 ],
 "metadata": {
  "kernelspec": {
   "display_name": "Python 3 (ipykernel)",
   "language": "python",
   "name": "python3"
  },
  "language_info": {
   "codemirror_mode": {
    "name": "ipython",
    "version": 3
   },
   "file_extension": ".py",
   "mimetype": "text/x-python",
   "name": "python",
   "nbconvert_exporter": "python",
   "pygments_lexer": "ipython3",
   "version": "3.8.5"
  }
 },
 "nbformat": 4,
 "nbformat_minor": 2
}
