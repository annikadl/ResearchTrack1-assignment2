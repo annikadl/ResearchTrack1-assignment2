{
 "cells": [
  {
   "cell_type": "code",
   "execution_count": null,
   "id": "631a7060",
   "metadata": {},
   "outputs": [],
   "source": [
    "import rospy\n",
    "import actionlib\n",
    "import actionlib.msg\n",
    "import assignment_2_2023.msg\n",
    "from std_srvs.srv import *\n",
    "import sys\n",
    "import select\n",
    "from nav_msgs.msg import Odometry\n",
    "from geometry_msgs.msg import Point, Pose, Twist\n",
    "from assignment_2_2023.msg import Vel\n",
    "from assignment_2_2023.msg import PlanningAction, PlanningGoal, PlanningResult, PlanningActionResult\n",
    "from actionlib_msgs.msg import GoalStatus\n",
    "from sensor_msgs.msg import LaserScan\n",
    "import math\n",
    "import ipywidgets as widgets\n",
    "from IPython.display import display \n",
    "from ipywidgets import Layout, HBox\n",
    "import matplotlib.pyplot as plt\n",
    "from matplotlib.animation import FuncAnimation\n",
    "from ipywidgets import interact, interactive, fixed, interact_manual\n",
    "import tf\n",
    "from nav_msgs.msg import Odometry\n",
    "from tf.transformations import quaternion_matrix\n",
    "import numpy as np\n",
    "import matplotlib as mpl"
   ]
  },
  {
   "cell_type": "code",
   "execution_count": null,
   "id": "e7e6d402",
   "metadata": {},
   "outputs": [],
   "source": [
    "def set_goal(input_x, input_y):\n",
    "    goal = assignment_2_2023.msg.PlanningGoal()\n",
    "    \n",
    "    # Update ros parameters\n",
    "    # TODO take input_x/y from sliders\n",
    "    rospy.set_param('/des_pos_x', input_x)\n",
    "    rospy.set_param('/des_pos_y', input_y)\n",
    "\n",
    "    # Set goal parameters\n",
    "    goal.target_pose.pose.position.x = input_x\n",
    "    goal.target_pose.pose.position.y = input_y\n",
    "\n",
    "    # send goal to the service\n",
    "    client.send_goal(goal)\n",
    "    rospy.loginfo(\"Inserted goal: des_x = %f, des_y = %f\", input_x, input_y)"
   ]
  },
  {
   "cell_type": "code",
   "execution_count": null,
   "id": "3cdb55da",
   "metadata": {},
   "outputs": [],
   "source": [
    "def cancel_goal():\n",
    "    if client.get_state() == actionlib.GoalStatus.ACTIVE:\n",
    "        client.cancel_goal()\n",
    "        rospy.loginfo(\"Goal cancelled\")\n",
    "    else:\n",
    "        rospy.loginfo(\"No active goal to cancel\")"
   ]
  },
  {
   "cell_type": "code",
   "execution_count": null,
   "id": "2982a134",
   "metadata": {},
   "outputs": [],
   "source": [
    "def status_update(msg):\n",
    "    status_text.value = \"Current Status: \" + str(msg.status_list[0].status)"
   ]
  },
  {
   "cell_type": "code",
   "execution_count": null,
   "id": "5801d201",
   "metadata": {},
   "outputs": [],
   "source": [
    "rospy.init_node('set_target_client')\n",
    "client = actionlib.SimpleActionClient('/reaching_goal', PlanningAction)\n",
    "client.wait_for_server()"
   ]
  },
  {
   "cell_type": "code",
   "execution_count": null,
   "id": "56d89456",
   "metadata": {},
   "outputs": [],
   "source": [
    "# Create widgets for setting goal\n",
    "goal_x = widgets.FloatSlider(min=-15.0, max=15.0, step=0.1, description='desired x:')\n",
    "goal_y = widgets.FloatSlider(min=-15.0, max=15.0, step=0.1, description='desired y:')\n",
    "set_goal_button = widgets.Button(description=\"Set Goal\")\n",
    "cancel_goal_button = widgets.Button(description=\"Cancel Goal\")"
   ]
  },
  {
   "cell_type": "code",
   "execution_count": null,
   "id": "af4da674",
   "metadata": {},
   "outputs": [],
   "source": [
    "# Create widgets for status update\n",
    "status_text = widgets.Label(value=\"Current Status: Unknown\")"
   ]
  },
  {
   "cell_type": "code",
   "execution_count": null,
   "id": "735762e5",
   "metadata": {},
   "outputs": [],
   "source": [
    "# Define actions for button clicks\n",
    "def set_goal_click(b):\n",
    "    set_goal(goal_x.value, goal_y.value)\n",
    "\n",
    "def cancel_goal_click(b):\n",
    "    cancel_goal()"
   ]
  },
  {
   "cell_type": "code",
   "execution_count": null,
   "id": "2861ed8a",
   "metadata": {},
   "outputs": [],
   "source": [
    "# Assign actions to buttons\n",
    "set_goal_button.on_click(set_goal_click)\n",
    "cancel_goal_button.on_click(cancel_goal_click)"
   ]
  },
  {
   "cell_type": "code",
   "execution_count": null,
   "id": "5e3708c2",
   "metadata": {},
   "outputs": [],
   "source": [
    "# Display widgets\n",
    "display(goal_x, goal_y, set_goal_button, cancel_goal_button, status_text)"
   ]
  },
  {
   "cell_type": "code",
   "execution_count": null,
   "id": "94a8e0bf",
   "metadata": {},
   "outputs": [],
   "source": [
    "# Subscribe to goal status updates\n",
    "goal_status_sub = rospy.Subscriber('/reaching_goal/status', GoalStatus, status_update)"
   ]
  },
  {
   "cell_type": "code",
   "execution_count": null,
   "id": "191091b0",
   "metadata": {},
   "outputs": [],
   "source": [
    "# Keep the notebook running\n",
    "rospy.spin()"
   ]
  },
  {
   "cell_type": "code",
   "execution_count": null,
   "id": "f62ae55c",
   "metadata": {},
   "outputs": [],
   "source": []
  }
 ],
 "metadata": {
  "kernelspec": {
   "display_name": "Python 3 (ipykernel)",
   "language": "python",
   "name": "python3"
  },
  "language_info": {
   "codemirror_mode": {
    "name": "ipython",
    "version": 3
   },
   "file_extension": ".py",
   "mimetype": "text/x-python",
   "name": "python",
   "nbconvert_exporter": "python",
   "pygments_lexer": "ipython3",
   "version": "3.8.5"
  }
 },
 "nbformat": 4,
 "nbformat_minor": 5
}
